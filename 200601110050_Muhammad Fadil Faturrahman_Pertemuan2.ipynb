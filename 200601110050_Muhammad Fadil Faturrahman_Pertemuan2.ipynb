{
 "cells": [
  {
   "cell_type": "markdown",
   "id": "f9b1864c-6313-4544-bada-e9ee580a7282",
   "metadata": {},
   "source": [
    "## Algorithm 2.1 str ()"
   ]
  },
  {
   "cell_type": "code",
   "execution_count": 4,
   "id": "36f55259-2708-4b52-8e56-267e1281644d",
   "metadata": {},
   "outputs": [
    {
     "data": {
      "text/plain": [
       "int"
      ]
     },
     "execution_count": 4,
     "metadata": {},
     "output_type": "execute_result"
    }
   ],
   "source": [
    "a=12345\n",
    "type(a)"
   ]
  },
  {
   "cell_type": "code",
   "execution_count": 6,
   "id": "34c71ef6-6053-4a3c-a1f1-c92a7b7ef7c4",
   "metadata": {},
   "outputs": [
    {
     "data": {
      "text/plain": [
       "str"
      ]
     },
     "execution_count": 6,
     "metadata": {},
     "output_type": "execute_result"
    }
   ],
   "source": [
    "b=str(a)\n",
    "b=\"12345\"\n",
    "type(b)"
   ]
  },
  {
   "cell_type": "markdown",
   "id": "800895b1-94d0-4c07-9457-42a262825547",
   "metadata": {},
   "source": [
    "## Algorithm 2.2 int ()"
   ]
  },
  {
   "cell_type": "code",
   "execution_count": 8,
   "id": "9d475053-1889-42bc-a7bc-91589cccc542",
   "metadata": {},
   "outputs": [
    {
     "data": {
      "text/plain": [
       "str"
      ]
     },
     "execution_count": 8,
     "metadata": {},
     "output_type": "execute_result"
    }
   ],
   "source": [
    "a='12345'\n",
    "type(a)"
   ]
  },
  {
   "cell_type": "code",
   "execution_count": 10,
   "id": "37cddf7d-b63d-44d4-946c-9602cdfffd48",
   "metadata": {},
   "outputs": [
    {
     "data": {
      "text/plain": [
       "int"
      ]
     },
     "execution_count": 10,
     "metadata": {},
     "output_type": "execute_result"
    }
   ],
   "source": [
    "b=int(a)\n",
    "b=12345\n",
    "type(b)"
   ]
  },
  {
   "cell_type": "markdown",
   "id": "a634865a-7ab9-4b69-8294-f351bc79a9ca",
   "metadata": {},
   "source": [
    "## Algorithm 2.3 ()"
   ]
  },
  {
   "cell_type": "code",
   "execution_count": 11,
   "id": "c0b9663d-d9a4-418a-b586-51a525432623",
   "metadata": {},
   "outputs": [
    {
     "data": {
      "text/plain": [
       "1"
      ]
     },
     "execution_count": 11,
     "metadata": {},
     "output_type": "execute_result"
    }
   ],
   "source": [
    "int(True)"
   ]
  },
  {
   "cell_type": "code",
   "execution_count": 12,
   "id": "af9e3c59-027b-4d70-ac6d-cc393c9941d3",
   "metadata": {},
   "outputs": [
    {
     "data": {
      "text/plain": [
       "0"
      ]
     },
     "execution_count": 12,
     "metadata": {},
     "output_type": "execute_result"
    }
   ],
   "source": [
    "int(False)"
   ]
  },
  {
   "cell_type": "code",
   "execution_count": 13,
   "id": "e116519c-88f3-4632-84a2-ba1f6c6f14db",
   "metadata": {},
   "outputs": [
    {
     "data": {
      "text/plain": [
       "bool"
      ]
     },
     "execution_count": 13,
     "metadata": {},
     "output_type": "execute_result"
    }
   ],
   "source": [
    "a=True\n",
    "type(a)"
   ]
  },
  {
   "cell_type": "code",
   "execution_count": 14,
   "id": "0f20bd44-3b24-49c3-9d09-ba80c5da20fb",
   "metadata": {},
   "outputs": [
    {
     "data": {
      "text/plain": [
       "1"
      ]
     },
     "execution_count": 14,
     "metadata": {},
     "output_type": "execute_result"
    }
   ],
   "source": [
    "int(a)"
   ]
  },
  {
   "cell_type": "markdown",
   "id": "9746bcf5-0ce4-40e4-ba44-3c72f339e049",
   "metadata": {},
   "source": [
    "## Algorithm 2.4 "
   ]
  },
  {
   "cell_type": "code",
   "execution_count": 24,
   "id": "acbff3a3-6442-437d-8b79-f8121ae36b99",
   "metadata": {},
   "outputs": [
    {
     "data": {
      "text/plain": [
       "123.456"
      ]
     },
     "execution_count": 24,
     "metadata": {},
     "output_type": "execute_result"
    }
   ],
   "source": [
    "a=123.456\n",
    "a"
   ]
  },
  {
   "cell_type": "code",
   "execution_count": 25,
   "id": "83e2ac46-5920-44c1-b8bb-3b241aff72a7",
   "metadata": {},
   "outputs": [
    {
     "data": {
      "text/plain": [
       "float"
      ]
     },
     "execution_count": 25,
     "metadata": {},
     "output_type": "execute_result"
    }
   ],
   "source": [
    "type(a)"
   ]
  },
  {
   "cell_type": "code",
   "execution_count": 26,
   "id": "7d0eaaa1-80d1-4a14-87dd-1a494b07f2ea",
   "metadata": {},
   "outputs": [
    {
     "data": {
      "text/plain": [
       "246.912"
      ]
     },
     "execution_count": 26,
     "metadata": {},
     "output_type": "execute_result"
    }
   ],
   "source": [
    "a*2"
   ]
  },
  {
   "cell_type": "markdown",
   "id": "7a7feec6-f6ff-427e-ab7f-ffd893db12de",
   "metadata": {},
   "source": [
    "## Algorithm 2.5 "
   ]
  },
  {
   "cell_type": "code",
   "execution_count": 27,
   "id": "d8a48b87-62d5-4b9a-9b27-c9fc18c5c800",
   "metadata": {},
   "outputs": [
    {
     "data": {
      "text/plain": [
       "0.00089"
      ]
     },
     "execution_count": 27,
     "metadata": {},
     "output_type": "execute_result"
    }
   ],
   "source": [
    "a=8.9e-4\n",
    "a"
   ]
  },
  {
   "cell_type": "markdown",
   "id": "d065e868-ea43-4378-8185-81a4d5fff259",
   "metadata": {},
   "source": [
    "## Algorithm 2.6"
   ]
  },
  {
   "cell_type": "code",
   "execution_count": 28,
   "id": "9c166d16-4132-46d0-a7cb-c404a2b4a700",
   "metadata": {},
   "outputs": [
    {
     "data": {
      "text/plain": [
       "float"
      ]
     },
     "execution_count": 28,
     "metadata": {},
     "output_type": "execute_result"
    }
   ],
   "source": [
    "a=123.456\n",
    "type(a)"
   ]
  },
  {
   "cell_type": "code",
   "execution_count": 29,
   "id": "4b3d9a28-ad9d-4d43-bb50-03934f6aea08",
   "metadata": {},
   "outputs": [
    {
     "data": {
      "text/plain": [
       "'123.456'"
      ]
     },
     "execution_count": 29,
     "metadata": {},
     "output_type": "execute_result"
    }
   ],
   "source": [
    "b=str(a)\n",
    "b"
   ]
  },
  {
   "cell_type": "code",
   "execution_count": 30,
   "id": "d1cab3f4-5c87-458e-ae13-9e273461a733",
   "metadata": {},
   "outputs": [
    {
     "data": {
      "text/plain": [
       "str"
      ]
     },
     "execution_count": 30,
     "metadata": {},
     "output_type": "execute_result"
    }
   ],
   "source": [
    "type(b)"
   ]
  },
  {
   "cell_type": "code",
   "execution_count": 32,
   "id": "6be63c2f-8e2f-489b-b4ac-492a702cfe5f",
   "metadata": {},
   "outputs": [
    {
     "data": {
      "text/plain": [
       "'123.456'"
      ]
     },
     "execution_count": 32,
     "metadata": {},
     "output_type": "execute_result"
    }
   ],
   "source": [
    "c=float(b)\n",
    "b"
   ]
  },
  {
   "cell_type": "code",
   "execution_count": 33,
   "id": "f7ccc6bf-e484-48f6-afac-19df99b5ef5f",
   "metadata": {},
   "outputs": [
    {
     "data": {
      "text/plain": [
       "float"
      ]
     },
     "execution_count": 33,
     "metadata": {},
     "output_type": "execute_result"
    }
   ],
   "source": [
    "type(c)"
   ]
  },
  {
   "cell_type": "markdown",
   "id": "b75c6f74-2266-4a9e-ad30-829a1ad3f24b",
   "metadata": {},
   "source": [
    "## Algorithm 2.7"
   ]
  },
  {
   "cell_type": "code",
   "execution_count": 35,
   "id": "20eac47e-80fa-46c7-9bad-d25b057a586d",
   "metadata": {},
   "outputs": [
    {
     "data": {
      "text/plain": [
       "(-9+17j)"
      ]
     },
     "execution_count": 35,
     "metadata": {},
     "output_type": "execute_result"
    }
   ],
   "source": [
    "a=-9+17j\n",
    "a"
   ]
  },
  {
   "cell_type": "code",
   "execution_count": 36,
   "id": "2cdbc1e7-3d25-4c6b-99cd-00144b40e2b0",
   "metadata": {},
   "outputs": [
    {
     "data": {
      "text/plain": [
       "complex"
      ]
     },
     "execution_count": 36,
     "metadata": {},
     "output_type": "execute_result"
    }
   ],
   "source": [
    "type(a)"
   ]
  },
  {
   "cell_type": "code",
   "execution_count": 37,
   "id": "99b56355-9012-4393-99fb-db1dc04544e7",
   "metadata": {},
   "outputs": [
    {
     "data": {
      "text/plain": [
       "-9.0"
      ]
     },
     "execution_count": 37,
     "metadata": {},
     "output_type": "execute_result"
    }
   ],
   "source": [
    "a.real"
   ]
  },
  {
   "cell_type": "code",
   "execution_count": 38,
   "id": "691ae36b-f978-4aba-9dfd-aad8fe15598b",
   "metadata": {},
   "outputs": [
    {
     "data": {
      "text/plain": [
       "17.0"
      ]
     },
     "execution_count": 38,
     "metadata": {},
     "output_type": "execute_result"
    }
   ],
   "source": [
    "a.imag"
   ]
  },
  {
   "cell_type": "markdown",
   "id": "427846d7-c17f-43b5-84a7-ea02fd5d1564",
   "metadata": {},
   "source": [
    "## Algorithm 2.8"
   ]
  },
  {
   "cell_type": "code",
   "execution_count": 40,
   "id": "251ab36b-762a-4b70-8598-ca79660e39ba",
   "metadata": {},
   "outputs": [
    {
     "data": {
      "text/plain": [
       "'PyQt'"
      ]
     },
     "execution_count": 40,
     "metadata": {},
     "output_type": "execute_result"
    }
   ],
   "source": [
    "s1='PyQt'\n",
    "s1"
   ]
  },
  {
   "cell_type": "code",
   "execution_count": 41,
   "id": "7157ea5b-b8ad-45ad-a8d4-52ac9db22c88",
   "metadata": {},
   "outputs": [
    {
     "data": {
      "text/plain": [
       "'Python'"
      ]
     },
     "execution_count": 41,
     "metadata": {},
     "output_type": "execute_result"
    }
   ],
   "source": [
    "s2=\"Python\"\n",
    "s2"
   ]
  },
  {
   "cell_type": "code",
   "execution_count": 42,
   "id": "04f2ca30-dacf-494a-944e-ae0f69ba5fde",
   "metadata": {},
   "outputs": [
    {
     "ename": "SyntaxError",
     "evalue": "invalid syntax (3239585391.py, line 2)",
     "output_type": "error",
     "traceback": [
      "\u001b[1;36m  Input \u001b[1;32mIn [42]\u001b[1;36m\u001b[0m\n\u001b[1;33m    s3 '\\nPemograman GUI\\ndengan Python dan PyQt\\n'\u001b[0m\n\u001b[1;37m       ^\u001b[0m\n\u001b[1;31mSyntaxError\u001b[0m\u001b[1;31m:\u001b[0m invalid syntax\n"
     ]
    }
   ],
   "source": [
    "s3='''Pemograman GUI dengan Python dan PyQt'''\n",
    "s3 '\\nPemograman GUI\\ndengan Python dan PyQt\\n'\n",
    "s4=\"\"\" Pemograman GUI dengan Python dan PyQt \"\"\"\n",
    "s3"
   ]
  },
  {
   "cell_type": "code",
   "execution_count": 43,
   "id": "caa12ee0-cd07-47fd-a3a4-834757dd04c6",
   "metadata": {},
   "outputs": [
    {
     "data": {
      "text/plain": [
       "'\\nPemograman GUI\\ndengan Python dan PyQt\\n'"
      ]
     },
     "execution_count": 43,
     "metadata": {},
     "output_type": "execute_result"
    }
   ],
   "source": [
    "s3='''Pemograman GUI dengan Python dan PyQt'''\n",
    "s3='\\nPemograman GUI\\ndengan Python dan PyQt\\n'\n",
    "s4=\"\"\" Pemograman GUI dengan Python dan PyQt \"\"\"\n",
    "s3"
   ]
  },
  {
   "cell_type": "code",
   "execution_count": 44,
   "id": "dc3c48be-8f19-47db-b3e4-926ffb841f79",
   "metadata": {},
   "outputs": [
    {
     "data": {
      "text/plain": [
       "'python'"
      ]
     },
     "execution_count": 44,
     "metadata": {},
     "output_type": "execute_result"
    }
   ],
   "source": [
    "b='python'\n",
    "b"
   ]
  },
  {
   "cell_type": "code",
   "execution_count": 45,
   "id": "81713bb3-b9b2-4598-919f-ee17d00c139c",
   "metadata": {},
   "outputs": [
    {
     "data": {
      "text/plain": [
       "'Python'"
      ]
     },
     "execution_count": 45,
     "metadata": {},
     "output_type": "execute_result"
    }
   ],
   "source": [
    "b=b.capitalize()\n",
    "b"
   ]
  },
  {
   "cell_type": "code",
   "execution_count": 46,
   "id": "6477ba7a-6dbf-4d1e-a43b-1d57e839b30c",
   "metadata": {},
   "outputs": [
    {
     "data": {
      "text/plain": [
       "'PYTHON'"
      ]
     },
     "execution_count": 46,
     "metadata": {},
     "output_type": "execute_result"
    }
   ],
   "source": [
    "b=b.upper()\n",
    "b"
   ]
  },
  {
   "cell_type": "code",
   "execution_count": 47,
   "id": "d4c4bc8f-b2a3-428e-97c5-9ea79a80f053",
   "metadata": {},
   "outputs": [
    {
     "data": {
      "text/plain": [
       "'python'"
      ]
     },
     "execution_count": 47,
     "metadata": {},
     "output_type": "execute_result"
    }
   ],
   "source": [
    "b=b.lower()\n",
    "b"
   ]
  },
  {
   "cell_type": "code",
   "execution_count": 48,
   "id": "d77a2c68-c9da-4d40-9f48-07ec9a1e94ef",
   "metadata": {},
   "outputs": [
    {
     "data": {
      "text/plain": [
       "False"
      ]
     },
     "execution_count": 48,
     "metadata": {},
     "output_type": "execute_result"
    }
   ],
   "source": [
    "b.isupper()"
   ]
  },
  {
   "cell_type": "code",
   "execution_count": 49,
   "id": "6c36d949-c046-449d-93fb-fcb0f04c67e2",
   "metadata": {},
   "outputs": [
    {
     "data": {
      "text/plain": [
       "True"
      ]
     },
     "execution_count": 49,
     "metadata": {},
     "output_type": "execute_result"
    }
   ],
   "source": [
    "b.islower()"
   ]
  },
  {
   "cell_type": "code",
   "execution_count": 50,
   "id": "1600f2fc-be10-42f0-9f61-2fc75a76f67e",
   "metadata": {},
   "outputs": [
    {
     "data": {
      "text/plain": [
       "'saya makan ayam'"
      ]
     },
     "execution_count": 50,
     "metadata": {},
     "output_type": "execute_result"
    }
   ],
   "source": [
    "s=' '.join(['saya','makan','ayam'])\n",
    "s"
   ]
  },
  {
   "cell_type": "code",
   "execution_count": 51,
   "id": "4452c7a4-e89a-4463-9d47-0c3ba4f5fb8e",
   "metadata": {},
   "outputs": [
    {
     "data": {
      "text/plain": [
       "True"
      ]
     },
     "execution_count": 51,
     "metadata": {},
     "output_type": "execute_result"
    }
   ],
   "source": [
    "nim='200601110050'\n",
    "nim.isnumeric()"
   ]
  },
  {
   "cell_type": "code",
   "execution_count": 52,
   "id": "51035af9-101c-4653-8f39-df720dd5f8e4",
   "metadata": {},
   "outputs": [
    {
     "data": {
      "text/plain": [
       "False"
      ]
     },
     "execution_count": 52,
     "metadata": {},
     "output_type": "execute_result"
    }
   ],
   "source": [
    "nim='2006001110o50'\n",
    "nim.isnumeric()"
   ]
  },
  {
   "cell_type": "code",
   "execution_count": null,
   "id": "f3eeeb6c-85e5-45bd-8bfb-503b5476bcd7",
   "metadata": {},
   "outputs": [],
   "source": []
  }
 ],
 "metadata": {
  "kernelspec": {
   "display_name": "Python 3 (ipykernel)",
   "language": "python",
   "name": "python3"
  },
  "language_info": {
   "codemirror_mode": {
    "name": "ipython",
    "version": 3
   },
   "file_extension": ".py",
   "mimetype": "text/x-python",
   "name": "python",
   "nbconvert_exporter": "python",
   "pygments_lexer": "ipython3",
   "version": "3.10.2"
  }
 },
 "nbformat": 4,
 "nbformat_minor": 5
}
