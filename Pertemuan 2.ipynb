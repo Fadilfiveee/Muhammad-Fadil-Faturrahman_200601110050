{
 "cells": [
  {
   "cell_type": "code",
   "execution_count": 5,
   "id": "52a8414d-7bad-4dea-88a3-a3a25161f86d",
   "metadata": {},
   "outputs": [],
   "source": [
    "s1='PyQt'"
   ]
  },
  {
   "cell_type": "code",
   "execution_count": 6,
   "id": "14f4a244-c0b2-48cb-98d7-30f5a0d52218",
   "metadata": {},
   "outputs": [
    {
     "data": {
      "text/plain": [
       "'PyQt'"
      ]
     },
     "execution_count": 6,
     "metadata": {},
     "output_type": "execute_result"
    }
   ],
   "source": [
    "s1"
   ]
  },
  {
   "cell_type": "code",
   "execution_count": 7,
   "id": "4122fdd3-0b54-403c-8602-72e87e94e36b",
   "metadata": {},
   "outputs": [
    {
     "data": {
      "text/plain": [
       "'Python'"
      ]
     },
     "execution_count": 7,
     "metadata": {},
     "output_type": "execute_result"
    }
   ],
   "source": [
    "s2=\"Python\"\n",
    "s2"
   ]
  },
  {
   "cell_type": "code",
   "execution_count": 8,
   "id": "9f013854-48f6-42c8-bf12-57897f1bb6f6",
   "metadata": {},
   "outputs": [
    {
     "ename": "SyntaxError",
     "evalue": "invalid syntax (1298133884.py, line 2)",
     "output_type": "error",
     "traceback": [
      "\u001b[1;36m  Input \u001b[1;32mIn [8]\u001b[1;36m\u001b[0m\n\u001b[1;33m    s3 '\\nPemograman GUI\\ndengan Python dan PyQr\\n'\u001b[0m\n\u001b[1;37m       ^\u001b[0m\n\u001b[1;31mSyntaxError\u001b[0m\u001b[1;31m:\u001b[0m invalid syntax\n"
     ]
    }
   ],
   "source": [
    "s3=''' Pemograman GUI dengan Python dan PyQt '''\n",
    "s3 '\\nPemograman GUI\\ndengan Python dan PyQr\\n'\n",
    "s4=\"\"\" Pemograman GUI dengan Python dan PyQt \"\"\"\n",
    "s4"
   ]
  },
  {
   "cell_type": "code",
   "execution_count": 10,
   "id": "a2492004-44cb-4a6e-be17-17604aab8367",
   "metadata": {},
   "outputs": [
    {
     "data": {
      "text/plain": [
       "'\\nPemograman GUI\\ndengan Python dan PyQt\\n'"
      ]
     },
     "execution_count": 10,
     "metadata": {},
     "output_type": "execute_result"
    }
   ],
   "source": [
    "s3=''' Pemograman GUI dengan Python dan PyQt '''\n",
    "s3='\\nPemograman GUI\\ndengan Python dan PyQt\\n'\n",
    "s4=\"\"\" Pemograman GUI dengan Python dan PyQt \"\"\"\n",
    "s3"
   ]
  },
  {
   "cell_type": "code",
   "execution_count": 11,
   "id": "216c7658-44e7-4270-bea6-6dc01fa340e5",
   "metadata": {},
   "outputs": [
    {
     "data": {
      "text/plain": [
       "'python'"
      ]
     },
     "execution_count": 11,
     "metadata": {},
     "output_type": "execute_result"
    }
   ],
   "source": [
    "b='python'\n",
    "b"
   ]
  },
  {
   "cell_type": "code",
   "execution_count": 12,
   "id": "4bb7dd2c-38f4-4512-9b41-fde37b272581",
   "metadata": {},
   "outputs": [
    {
     "data": {
      "text/plain": [
       "'Python'"
      ]
     },
     "execution_count": 12,
     "metadata": {},
     "output_type": "execute_result"
    }
   ],
   "source": [
    "b=b.capitalize()\n",
    "b"
   ]
  },
  {
   "cell_type": "code",
   "execution_count": 13,
   "id": "508956f6-5cb6-43b5-bcbc-f2740ccb377a",
   "metadata": {},
   "outputs": [
    {
     "data": {
      "text/plain": [
       "'PYTHON'"
      ]
     },
     "execution_count": 13,
     "metadata": {},
     "output_type": "execute_result"
    }
   ],
   "source": [
    "b=b.upper()\n",
    "b"
   ]
  },
  {
   "cell_type": "code",
   "execution_count": 14,
   "id": "9c942763-e589-4fb8-85c9-6f72a9f98914",
   "metadata": {},
   "outputs": [
    {
     "data": {
      "text/plain": [
       "'python'"
      ]
     },
     "execution_count": 14,
     "metadata": {},
     "output_type": "execute_result"
    }
   ],
   "source": [
    "b=b.lower()\n",
    "b"
   ]
  },
  {
   "cell_type": "code",
   "execution_count": 15,
   "id": "b8e709b0-7745-4a9a-8c84-d63d65a22328",
   "metadata": {},
   "outputs": [
    {
     "data": {
      "text/plain": [
       "False"
      ]
     },
     "execution_count": 15,
     "metadata": {},
     "output_type": "execute_result"
    }
   ],
   "source": [
    "b.isupper()"
   ]
  },
  {
   "cell_type": "code",
   "execution_count": 16,
   "id": "e4da87d3-3b00-43b1-ab26-1d0cc4f817ff",
   "metadata": {},
   "outputs": [
    {
     "data": {
      "text/plain": [
       "True"
      ]
     },
     "execution_count": 16,
     "metadata": {},
     "output_type": "execute_result"
    }
   ],
   "source": [
    "b.islower()"
   ]
  },
  {
   "cell_type": "code",
   "execution_count": 17,
   "id": "e62c01c9-6aee-4e3c-b2ad-354ae73da344",
   "metadata": {},
   "outputs": [
    {
     "data": {
      "text/plain": [
       "'saya makan ayam'"
      ]
     },
     "execution_count": 17,
     "metadata": {},
     "output_type": "execute_result"
    }
   ],
   "source": [
    "s=' '.join(['saya','makan','ayam'])\n",
    "s"
   ]
  },
  {
   "cell_type": "code",
   "execution_count": 18,
   "id": "c2277de8-2978-4b3b-8ebb-e64ba7473ef4",
   "metadata": {},
   "outputs": [
    {
     "data": {
      "text/plain": [
       "True"
      ]
     },
     "execution_count": 18,
     "metadata": {},
     "output_type": "execute_result"
    }
   ],
   "source": [
    "nim='200601110050'\n",
    "nim.isnumeric()"
   ]
  },
  {
   "cell_type": "code",
   "execution_count": 19,
   "id": "2c54f3ed-110e-4e51-9eaa-6ea06964e591",
   "metadata": {},
   "outputs": [
    {
     "data": {
      "text/plain": [
       "False"
      ]
     },
     "execution_count": 19,
     "metadata": {},
     "output_type": "execute_result"
    }
   ],
   "source": [
    "nim='200601110o50'\n",
    "nim.isnumeric()"
   ]
  },
  {
   "cell_type": "code",
   "execution_count": null,
   "id": "c784c97b-5f1f-45d5-a5cb-3ad98b33fa3b",
   "metadata": {},
   "outputs": [],
   "source": []
  }
 ],
 "metadata": {
  "kernelspec": {
   "display_name": "Python 3 (ipykernel)",
   "language": "python",
   "name": "python3"
  },
  "language_info": {
   "codemirror_mode": {
    "name": "ipython",
    "version": 3
   },
   "file_extension": ".py",
   "mimetype": "text/x-python",
   "name": "python",
   "nbconvert_exporter": "python",
   "pygments_lexer": "ipython3",
   "version": "3.10.2"
  }
 },
 "nbformat": 4,
 "nbformat_minor": 5
}
