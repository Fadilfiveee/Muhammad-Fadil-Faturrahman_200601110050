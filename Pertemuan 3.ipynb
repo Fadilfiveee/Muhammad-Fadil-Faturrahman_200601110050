{
 "cells": [
  {
   "cell_type": "markdown",
   "id": "732218c1-e480-4a12-9fef-6162fe1a7f88",
   "metadata": {},
   "source": [
    "## Algorithm 3.1"
   ]
  },
  {
   "cell_type": "code",
   "execution_count": 4,
   "id": "daefbf37-503b-48a5-ac98-300e40ea5383",
   "metadata": {},
   "outputs": [
    {
     "data": {
      "text/plain": [
       "[10, 8, 12, 6, 15]"
      ]
     },
     "execution_count": 4,
     "metadata": {},
     "output_type": "execute_result"
    }
   ],
   "source": [
    "list1=[100,200,300]\n",
    "list2=[1,'Pemograman Komputer' ,12000.00]\n",
    "list=[10,8,12,6,15]\n",
    "list"
   ]
  },
  {
   "cell_type": "code",
   "execution_count": null,
   "id": "7f86709b-8eb4-4ddc-a026-d5e4a9a37f5f",
   "metadata": {},
   "outputs": [
    {
     "data": {
      "text/plain": [
       "[10, 8, 12, 6, 15]"
      ]
     },
     "execution_count": 19,
     "metadata": {},
     "output_type": "execute_result"
    }
   ],
   "source": [
    "len(list)#Menghitung banyaknya elemen didalam list 5\n",
    "li=[10,8,12,6,15]\n",
    "li"
   ]
  },
  {
   "cell_type": "code",
   "execution_count": 18,
   "id": "c47fe691-e244-443e-857d-043d55d5c754",
   "metadata": {},
   "outputs": [
    {
     "data": {
      "text/plain": [
       "(10, 8, 12, 6, 15)"
      ]
     },
     "execution_count": 20,
     "metadata": {},
     "output_type": "execute_result"
    }
   ],
   "source": [
    "li[0],li[1],li[2],li[3],li[4]"
   ]
  },
  {
   "cell_type": "code",
   "execution_count": 17,
   "id": "6c47d924-19a8-42bc-ae27-74424d7590f2",
   "metadata": {},
   "outputs": [
    {
     "data": {
      "text/plain": [
       "(10, 8, 12, 6, 15)"
      ]
     },
     "execution_count": 21,
     "metadata": {},
     "output_type": "execute_result"
    }
   ],
   "source": [
    "li[-5],li[-4],li[-3],li[-2],li[-1]"
   ]
  },
  {
   "cell_type": "code",
   "execution_count": 10,
   "id": "e8deb675-012e-4028-b62f-f7fb6e56b7eb",
   "metadata": {},
   "outputs": [
    {
     "data": {
      "text/plain": [
       "[10, 8, 12, 6, 15, 20, 25, 100, 200, 300]"
      ]
     },
     "execution_count": 10,
     "metadata": {},
     "output_type": "execute_result"
    }
   ],
   "source": [
    "li.append(20)#Menambahkan elemen dalam list\n",
    "li.append(25)\n",
    "li=[10, 8, 12, 6, 15, 20, 25]\n",
    "li.extend([100,200,300])#Menambahkan list dalam sebuah\n",
    "li"
   ]
  },
  {
   "cell_type": "code",
   "execution_count": 11,
   "id": "612a4ec3-96a6-478b-8266-b72318cc0fac",
   "metadata": {},
   "outputs": [
    {
     "data": {
      "text/plain": [
       "[99, 77, 12, 6, 15, 20, 25, 100, 200, 300]"
      ]
     },
     "execution_count": 11,
     "metadata": {},
     "output_type": "execute_result"
    }
   ],
   "source": [
    "li[0]=99\n",
    "li[1]=77\n",
    "li"
   ]
  },
  {
   "cell_type": "code",
   "execution_count": 12,
   "id": "db0798d8-b24b-47a3-a171-14e20f3df427",
   "metadata": {},
   "outputs": [
    {
     "data": {
      "text/plain": [
       "[77, 12, 6, 15, 20, 25, 200]"
      ]
     },
     "execution_count": 12,
     "metadata": {},
     "output_type": "execute_result"
    }
   ],
   "source": [
    "li.remove(99) #Mengahpus elemen di dalam list \n",
    "li.remove(300)\n",
    "li.remove(100)\n",
    "li"
   ]
  },
  {
   "cell_type": "code",
   "execution_count": 13,
   "id": "45296f40-6bef-408f-ba68-14bf8c1ad41c",
   "metadata": {},
   "outputs": [
    {
     "data": {
      "text/plain": [
       "[]"
      ]
     },
     "execution_count": 13,
     "metadata": {},
     "output_type": "execute_result"
    }
   ],
   "source": [
    "li.clear() #Menghapus semua elemen di dalam list\n",
    "li"
   ]
  },
  {
   "cell_type": "markdown",
   "id": "a0e78a1e-a50c-4743-8f79-f67ff71de6a8",
   "metadata": {},
   "source": [
    "## Algorithm 3.2"
   ]
  },
  {
   "cell_type": "code",
   "execution_count": 23,
   "id": "3a7778f6-6b66-412d-994a-d0b12a6fb236",
   "metadata": {},
   "outputs": [
    {
     "data": {
      "text/plain": [
       "{'A': 4, 'B': 3, 'C': 2, 'D': 1, 'E': 0}"
      ]
     },
     "execution_count": 23,
     "metadata": {},
     "output_type": "execute_result"
    }
   ],
   "source": [
    "na={'A':4,'B':3,'C':2,'D':1,'E':0}\n",
    "na"
   ]
  },
  {
   "cell_type": "code",
   "execution_count": 24,
   "id": "4b1e6fd9-8ee1-4bd6-a890-bc5689dda8ee",
   "metadata": {},
   "outputs": [
    {
     "data": {
      "text/plain": [
       "dict_keys(['A', 'B', 'C', 'D', 'E'])"
      ]
     },
     "execution_count": 24,
     "metadata": {},
     "output_type": "execute_result"
    }
   ],
   "source": [
    "na.keys() #Menampilkan Kata Kunci(key) dalam Dictionary"
   ]
  },
  {
   "cell_type": "code",
   "execution_count": 25,
   "id": "d0a5ef7a-b3c4-4fb7-9088-dc7082ada811",
   "metadata": {},
   "outputs": [
    {
     "data": {
      "text/plain": [
       "dict_values([4, 3, 2, 1, 0])"
      ]
     },
     "execution_count": 25,
     "metadata": {},
     "output_type": "execute_result"
    }
   ],
   "source": [
    "na.values() #Menampilkan Kata Value dalam Dictionary"
   ]
  },
  {
   "cell_type": "code",
   "execution_count": 26,
   "id": "0202baa0-e301-43af-9580-4b53c5414d2b",
   "metadata": {},
   "outputs": [
    {
     "data": {
      "text/plain": [
       "4"
      ]
     },
     "execution_count": 26,
     "metadata": {},
     "output_type": "execute_result"
    }
   ],
   "source": [
    "na['A']"
   ]
  },
  {
   "cell_type": "code",
   "execution_count": 27,
   "id": "7e6bf973-f9c1-43b9-b0ac-7dadd7936fa2",
   "metadata": {},
   "outputs": [
    {
     "data": {
      "text/plain": [
       "3"
      ]
     },
     "execution_count": 27,
     "metadata": {},
     "output_type": "execute_result"
    }
   ],
   "source": [
    "na['B']"
   ]
  },
  {
   "cell_type": "code",
   "execution_count": 28,
   "id": "4f3b16d3-e0c4-4887-8bfc-84e13a6507db",
   "metadata": {},
   "outputs": [
    {
     "data": {
      "text/plain": [
       "2"
      ]
     },
     "execution_count": 28,
     "metadata": {},
     "output_type": "execute_result"
    }
   ],
   "source": [
    "na['C']"
   ]
  },
  {
   "cell_type": "code",
   "execution_count": 29,
   "id": "02061ed7-74de-46bf-a92d-98397858961a",
   "metadata": {},
   "outputs": [
    {
     "data": {
      "text/plain": [
       "'kucing'"
      ]
     },
     "execution_count": 29,
     "metadata": {},
     "output_type": "execute_result"
    }
   ],
   "source": [
    "kamus={'mouse':'tikus','cat':'kucing'}\n",
    "kamus['cat']"
   ]
  },
  {
   "cell_type": "code",
   "execution_count": 30,
   "id": "7b771cb5-6407-426e-b515-39e097bd8286",
   "metadata": {},
   "outputs": [
    {
     "data": {
      "text/plain": [
       "'tikus'"
      ]
     },
     "execution_count": 30,
     "metadata": {},
     "output_type": "execute_result"
    }
   ],
   "source": [
    "kamus['mouse']"
   ]
  },
  {
   "cell_type": "code",
   "execution_count": 31,
   "id": "7491ada0-8eac-4b0f-8010-bfda7fdf13f0",
   "metadata": {},
   "outputs": [
    {
     "data": {
      "text/plain": [
       "dict_keys(['mouse', 'cat'])"
      ]
     },
     "execution_count": 31,
     "metadata": {},
     "output_type": "execute_result"
    }
   ],
   "source": [
    "kamus.keys()"
   ]
  },
  {
   "cell_type": "code",
   "execution_count": 32,
   "id": "5f504682-d488-4bcf-ae6d-e7d75add11ce",
   "metadata": {},
   "outputs": [
    {
     "data": {
      "text/plain": [
       "dict_values(['tikus', 'kucing'])"
      ]
     },
     "execution_count": 32,
     "metadata": {},
     "output_type": "execute_result"
    }
   ],
   "source": [
    "kamus.values()"
   ]
  },
  {
   "cell_type": "markdown",
   "id": "51f6857a-70d3-4442-93a2-1b035151a7f0",
   "metadata": {},
   "source": [
    "## Algorithm 3.3"
   ]
  },
  {
   "cell_type": "code",
   "execution_count": 33,
   "id": "78ccc4eb-7e10-40ed-974a-25536231060d",
   "metadata": {},
   "outputs": [
    {
     "data": {
      "text/plain": [
       "10"
      ]
     },
     "execution_count": 33,
     "metadata": {},
     "output_type": "execute_result"
    }
   ],
   "source": [
    "t=(10,20,30)\n",
    "t[0]"
   ]
  },
  {
   "cell_type": "code",
   "execution_count": 34,
   "id": "eb596ded-b58d-4778-9b55-3ca90f315425",
   "metadata": {},
   "outputs": [
    {
     "data": {
      "text/plain": [
       "20"
      ]
     },
     "execution_count": 34,
     "metadata": {},
     "output_type": "execute_result"
    }
   ],
   "source": [
    "t[1]"
   ]
  },
  {
   "cell_type": "code",
   "execution_count": 35,
   "id": "1fd92dcf-2c06-4d4e-80be-aaa89f91fbe1",
   "metadata": {},
   "outputs": [
    {
     "data": {
      "text/plain": [
       "30"
      ]
     },
     "execution_count": 35,
     "metadata": {},
     "output_type": "execute_result"
    }
   ],
   "source": [
    "t[2]"
   ]
  },
  {
   "cell_type": "code",
   "execution_count": 40,
   "id": "ca79dd71-9c6c-4459-8b65-a684e5b64953",
   "metadata": {},
   "outputs": [
    {
     "data": {
      "text/plain": [
       "(10, 20, 30)"
      ]
     },
     "execution_count": 40,
     "metadata": {},
     "output_type": "execute_result"
    }
   ],
   "source": [
    "t[-3],t[-2],t[-1]"
   ]
  },
  {
   "cell_type": "code",
   "execution_count": 41,
   "id": "c30a9c15-f473-4835-9ff1-263cd683e808",
   "metadata": {},
   "outputs": [
    {
     "data": {
      "text/plain": [
       "3"
      ]
     },
     "execution_count": 41,
     "metadata": {},
     "output_type": "execute_result"
    }
   ],
   "source": [
    "len(t) #Menghitung banyaknya elemen didalam Tuple"
   ]
  },
  {
   "cell_type": "markdown",
   "id": "a7bee46a-89fe-4295-bf1a-43919b7c95cf",
   "metadata": {},
   "source": [
    "## Algotihm 3.4"
   ]
  },
  {
   "cell_type": "code",
   "execution_count": 42,
   "id": "5f367c1f-67ae-4887-9b0a-48dd23913024",
   "metadata": {},
   "outputs": [
    {
     "data": {
      "text/plain": [
       "{10, 20, 30}"
      ]
     },
     "execution_count": 42,
     "metadata": {},
     "output_type": "execute_result"
    }
   ],
   "source": [
    "s=set([10,10,20,30,30,30])\n",
    "s"
   ]
  },
  {
   "cell_type": "code",
   "execution_count": 43,
   "id": "6b90ecf9-f96f-4d9f-8954-1767488c9c70",
   "metadata": {},
   "outputs": [
    {
     "data": {
      "text/plain": [
       "3"
      ]
     },
     "execution_count": 43,
     "metadata": {},
     "output_type": "execute_result"
    }
   ],
   "source": [
    "len(s)"
   ]
  },
  {
   "cell_type": "code",
   "execution_count": 44,
   "id": "8c5f7054-afbd-4117-a8c4-486e6440387e",
   "metadata": {},
   "outputs": [
    {
     "data": {
      "text/plain": [
       "{10, 20, 30, 60}"
      ]
     },
     "execution_count": 44,
     "metadata": {},
     "output_type": "execute_result"
    }
   ],
   "source": [
    "s.add(60) #Menambahkan anggota himpunan(set)\n",
    "s"
   ]
  },
  {
   "cell_type": "code",
   "execution_count": 46,
   "id": "1e2324e5-0c90-4dd9-af4f-17ca6bdf1e75",
   "metadata": {},
   "outputs": [
    {
     "data": {
      "text/plain": [
       "4"
      ]
     },
     "execution_count": 46,
     "metadata": {},
     "output_type": "execute_result"
    }
   ],
   "source": [
    "len(s)"
   ]
  },
  {
   "cell_type": "code",
   "execution_count": null,
   "id": "5f18ecca-108e-4d12-a015-1e97e943d678",
   "metadata": {},
   "outputs": [],
   "source": []
  }
 ],
 "metadata": {
  "kernelspec": {
   "display_name": "Python 3 (ipykernel)",
   "language": "python",
   "name": "python3"
  },
  "language_info": {
   "codemirror_mode": {
    "name": "ipython",
    "version": 3
   },
   "file_extension": ".py",
   "mimetype": "text/x-python",
   "name": "python",
   "nbconvert_exporter": "python",
   "pygments_lexer": "ipython3",
   "version": "3.10.2"
  }
 },
 "nbformat": 4,
 "nbformat_minor": 5
}
